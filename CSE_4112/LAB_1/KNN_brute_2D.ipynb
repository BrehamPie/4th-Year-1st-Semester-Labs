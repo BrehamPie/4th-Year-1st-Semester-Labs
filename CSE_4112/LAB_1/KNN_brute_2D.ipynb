{
 "cells": [
  {
   "cell_type": "markdown",
   "metadata": {},
   "source": [
    "# Importing Necessary Modules"
   ]
  },
  {
   "cell_type": "code",
   "execution_count": 10,
   "metadata": {},
   "outputs": [],
   "source": [
    "from math import sqrt\n",
    "import numpy as np\n",
    "import pandas as pd\n",
    "import matplotlib.pyplot as plt\n"
   ]
  },
  {
   "cell_type": "markdown",
   "metadata": {},
   "source": [
    "# KNN class for 2D points"
   ]
  },
  {
   "cell_type": "code",
   "execution_count": 11,
   "metadata": {},
   "outputs": [],
   "source": [
    "class KNN_2D():\n",
    "    '''\n",
    "        A class for KNN classifier for 2D points.\n",
    "        ...\n",
    "        Attributes:\n",
    "            points: A list of 2D points.\n",
    "        Methods:\n",
    "            fit: Breaks the feature and target into points and labels\n",
    "            get_distance: Returns square of euclidean distance\n",
    "            find_k_nearset_points: Returns the K nearest points of a given point.\n",
    "            predict: Find K nearest points and return the target with maximum frequency.\n",
    "\n",
    "    '''\n",
    "\n",
    "    def __init__(self):\n",
    "        self.points = []\n",
    "\n",
    "    def get_distance(self, a, b):\n",
    "        '''\n",
    "            Returns square of euclidean distance\n",
    "            Parameter:\n",
    "                a,b: The points to find the distance between.\n",
    "            Returns:\n",
    "                Square of euclidean distance.\n",
    "        '''\n",
    "        #return (a[0]-b[0])**2+(a[1]-b[1])**2\n",
    "        return abs(a[0]-b[0])+abs(a[1]-b[1])\n",
    "\n",
    "    def find_k_nearset_points(self, point, K):\n",
    "        '''\n",
    "            Returns the K nearest points of a given point.\n",
    "            Parameter:\n",
    "                point: The point to find the nearest points of.\n",
    "                K: number of nearest point.\n",
    "            Returns:\n",
    "                List of K nearest points sorted by euclidean distance.\n",
    "        '''\n",
    "        distance_list = []\n",
    "        for old_point in self.points:\n",
    "            distance_list.append(\n",
    "                (self.get_distance(point, old_point[0]), old_point))\n",
    "        distance_list.sort()\n",
    "        return distance_list[:K]\n",
    "\n",
    "    def fit(self, X, y):\n",
    "        '''\n",
    "            Breaks the feature and target into points and labels \n",
    "            and append them to the points list.\n",
    "            Parameter:\n",
    "                X: The feature.\n",
    "                y: The target.\n",
    "            Returns:\n",
    "                None\n",
    "        '''\n",
    "        for a, b in zip(X, y):\n",
    "            self.points.append(((a[0], a[1]), b))\n",
    "\n",
    "    def predict(self, point, K):\n",
    "        '''\n",
    "            Find K nearest points and return the target with maximum frequency.\n",
    "            Parameter:\n",
    "                point: The point to predict the target.\n",
    "                K: number of nearest point.\n",
    "            Returns:\n",
    "                The target with maximum frequency.\n",
    "        '''\n",
    "        neighbors = self.find_k_nearset_points(point, K)\n",
    "        frequency = dict()\n",
    "        for item in neighbors:\n",
    "            frequency[item[1][1]] = frequency.get(item[1][1], 0) + 1\n",
    "        max_frequnecy = max(frequency, key=frequency.get)\n",
    "        return max_frequnecy\n"
   ]
  },
  {
   "cell_type": "markdown",
   "metadata": {},
   "source": [
    "# Using diabetes dataset and taking blood pressure and Age as features."
   ]
  },
  {
   "cell_type": "code",
   "execution_count": 12,
   "metadata": {},
   "outputs": [],
   "source": [
    "dataset = pd.read_csv('./diabetes.csv')\n",
    "X = dataset.iloc[:50, [2, 7]].values\n",
    "y = dataset.iloc[:50, 8].values\n"
   ]
  },
  {
   "cell_type": "markdown",
   "metadata": {},
   "source": [
    "# Fitting Dataset"
   ]
  },
  {
   "cell_type": "code",
   "execution_count": 13,
   "metadata": {},
   "outputs": [],
   "source": [
    "knn = KNN_2D()\n",
    "knn.fit(X, y)\n"
   ]
  },
  {
   "cell_type": "markdown",
   "metadata": {},
   "source": [
    "Taking Input feature"
   ]
  },
  {
   "cell_type": "code",
   "execution_count": 14,
   "metadata": {},
   "outputs": [],
   "source": [
    "in_x, in_y = map(int, input(\"Enter Point(x,y):\").split())\n",
    "K = int(input(\"How many Nearest Values:\"))\n"
   ]
  },
  {
   "cell_type": "markdown",
   "metadata": {},
   "source": [
    "# Predicting Output"
   ]
  },
  {
   "cell_type": "code",
   "execution_count": 15,
   "metadata": {},
   "outputs": [],
   "source": [
    "output = knn.predict((in_x, in_y), K)\n"
   ]
  },
  {
   "cell_type": "markdown",
   "metadata": {},
   "source": [
    "# Visualization of the data for better Understanding"
   ]
  },
  {
   "cell_type": "code",
   "execution_count": 17,
   "metadata": {},
   "outputs": [
    {
     "data": {
      "image/png": "[encoded data removed]",
      "text/plain": [
       "<Figure size 1080x720 with 1 Axes>"
      ]
     },
     "metadata": {
      "needs_background": "light"
     },
     "output_type": "display_data"
    }
   ],
   "source": [
    "f = plt.figure()\n",
    "f.set_figwidth(15)\n",
    "f.set_figheight(10)\n",
    "for (feature, target) in knn.points:\n",
    "    plt.scatter(feature[0], feature[1], marker='s' if target ==\n",
    "                1 else 'o', color='red' if target == 1 else 'blue')\n",
    "neighbors = knn.find_k_nearset_points((in_x, in_y), K)\n",
    "for (distance, (feature, target)) in neighbors:\n",
    "    plt.scatter(feature[0], feature[1], marker='s' if target ==\n",
    "                1 else 'o', color='green' if target == 1 else 'yellow')\n",
    "plt.scatter(in_x, in_y, color='green' if output == 1 else 'yellow', marker='x')\n",
    "plt.xticks(np.arange(0, 120, 5.0))\n",
    "plt.yticks(np.arange(0, 60, 5.0))\n",
    "plt.show()\n"
   ]
  }
 ],
 "metadata": {
  "interpreter": {
   "hash": "597ea447dffcce87677b122d856044db72d6425d6c1b26107c39df11795fdd45"
  },
  "kernelspec": {
   "display_name": "Python 3.10.4 64-bit",
   "language": "python",
   "name": "python3"
  },
  "language_info": {
   "codemirror_mode": {
    "name": "ipython",
    "version": 3
   },
   "file_extension": ".py",
   "mimetype": "text/x-python",
   "name": "python",
   "nbconvert_exporter": "python",
   "pygments_lexer": "ipython3",
   "version": "3.10.4"
  },
  "orig_nbformat": 4
 },
 "nbformat": 4,
 "nbformat_minor": 2
}
