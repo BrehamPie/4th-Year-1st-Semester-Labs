{
 "cells": [
  {
   "cell_type": "code",
   "execution_count": 9,
   "metadata": {},
   "outputs": [],
   "source": [
    "import numpy as np\n",
    "import pandas as pd\n",
    "import matplotlib.pyplot as plt\n",
    "from collections import deque\n",
    "import heapq as pq\n"
   ]
  },
  {
   "cell_type": "markdown",
   "metadata": {},
   "source": [
    "# KNN Implementation Using KD-TREE"
   ]
  },
  {
   "cell_type": "code",
   "execution_count": 10,
   "metadata": {},
   "outputs": [],
   "source": [
    "class Node:\n",
    "    '''\n",
    "        A utility class to represent a k-d tree node.\n",
    "        Attributes:\n",
    "            key: The 2D point at this node. \n",
    "            left: The left child node.\n",
    "            right: The right child node.\n",
    "    '''\n",
    "\n",
    "    def __init__(self, key, left=None, right=None):\n",
    "        self.key = key\n",
    "        self.left = left\n",
    "        self.right = right\n",
    "\n",
    "\n",
    "class KDTree():\n",
    "    def get_distance(self, a, b):\n",
    "        '''\n",
    "            Calculates square of the euclidean distance between two points. \n",
    "            Parameters:\n",
    "                a: The first point.\n",
    "                b: The second point.\n",
    "            Returns:\n",
    "                The square of the euclidean distance between the two points.\n",
    "        '''\n",
    "        #return (a[0]-b[0])**2+(a[1]-b[1])**2\n",
    "        return abs(a[0]-b[0])+abs(a[1]-b[1])\n",
    "\n",
    "    def __init__(self):\n",
    "        self.points = []\n",
    "\n",
    "    def build(self, points, dimension=0):\n",
    "        '''\n",
    "            Builds a k-d tree from a list of points.\n",
    "            Parameters:\n",
    "                points: The list of points.\n",
    "                dimension: The current dimension being considered.\n",
    "            Returns:\n",
    "                The root node of the k-d tree.\n",
    "        '''\n",
    "        if(len(points) == 1):\n",
    "            # leaf node of the tree\n",
    "            return Node(points[0])\n",
    "        elif len(points) > 1:\n",
    "            # Sort the points based on the current dimension.\n",
    "            points.sort(key=lambda x: x[0][dimension])\n",
    "            # Find the median point for a balanced tree.\n",
    "            median = len(points) >> 1\n",
    "            new_dimension = (dimension+1) % 2\n",
    "            return Node(points[median],\n",
    "                        self.build(points[:median], new_dimension),\n",
    "                        self.build(points[median+1:], new_dimension))\n",
    "\n",
    "    def fit(self, X, y):\n",
    "        '''\n",
    "            Builds a k-d tree from a list of points.\n",
    "            Parameters:\n",
    "                points: The list of points.\n",
    "            Returns:\n",
    "                None \n",
    "        '''\n",
    "        for a, b in zip(X, y):\n",
    "            self.points.append(((a[0], a[1]), b))\n",
    "        self.head = self.build(self.points)\n",
    "\n",
    "    def bfs(self):\n",
    "        '''\n",
    "            Performs a breadth-first search on the k-d tree.\n",
    "        '''\n",
    "        q = deque()\n",
    "        q.append((self.head, 0))\n",
    "        while len(q):\n",
    "            u = q.popleft()\n",
    "            print(u[0].key, u[1])\n",
    "            if u[0].left is not None:\n",
    "                q.append((u[0].left, u[1]+1))\n",
    "            if u[0].right is not None:\n",
    "                q.append((u[0].right, u[1]+1))\n",
    "\n",
    "    def dfs(self, root, point, dimension, heap, K):\n",
    "        '''\n",
    "            Performs a depth-first search on the k-d tree to find the K nearest neighbors of a point.\n",
    "            Inspiration 1: https://stackoverflow.com/questions/34688977/how-do-i-traverse-a-kdtree-to-find-k-nearest-neighbors\n",
    "            Inspiration 2: https://github.com/Vectorized/Python-KD-Tree/blob/master/kd_tree.py\n",
    "            Parameters:\n",
    "                root: The current node of the k-d tree.\n",
    "                point: The point to find the K nearest neighbors of.\n",
    "                dimension: The current dimension being considered.\n",
    "                heap: The heap of nearest neighbors.\n",
    "                K: The number of nearest neighbors to consider.\n",
    "            Returns:\n",
    "                The heap of nearest neighbors.\n",
    "\n",
    "        '''\n",
    "        if root is not None:\n",
    "            radius = root.key[0][dimension]-point[dimension]\n",
    "            actual_distance = self.get_distance(root.key[0], point)\n",
    "            if len(heap) < K:\n",
    "                # We take the point as the heap is not full yet.\n",
    "                pq.heappush(heap, (-actual_distance, root.key))\n",
    "            elif actual_distance < -heap[0][0]:\n",
    "                # Current root is closer than the furthest point in heap.\n",
    "                pq.heappushpop(heap, (-actual_distance, root.key))\n",
    "            dimension = (dimension+1) % 2\n",
    "            # Magic line from Inspiration 2. Here We first check if the point is in the left subtree or the right subtree.\n",
    "            # We first traverse the appropriate subtree. The second subtree will only be traversed if there's a chance of\n",
    "            # finding a new neighbor.\n",
    "            # If the heap is not full it will surely traverse the other subtree as radius**2>= -heap[0][0]\n",
    "            # Otherwise the condition will be checked.\n",
    "            for b in (radius < 0, radius >= 0)[:1+(radius**2 < -(heap[0][0]))]:\n",
    "                if b == False:\n",
    "                    self.dfs(root.left, point, dimension, heap, K)\n",
    "                else:\n",
    "                    self.dfs(root.right, point, dimension, heap, K)\n",
    "        return heap\n",
    "\n",
    "    def predict(self, point, K):\n",
    "        '''\n",
    "            Predicts the class of a point using the k-d tree.\n",
    "            Parameters:\n",
    "                point: The point to predict the class of.\n",
    "                K: The number of nearest neighbors to consider.\n",
    "        '''\n",
    "        heap = []\n",
    "        neighbors = self.dfs(self.head, point, 0, heap, K)\n",
    "        frequency = dict()\n",
    "        for item in neighbors:\n",
    "            frequency[item[1][1]] = frequency.get(item[1][1], 0) + 1\n",
    "        max_frequnecy = max(frequency, key=frequency.get)\n",
    "        return max_frequnecy\n"
   ]
  },
  {
   "cell_type": "markdown",
   "metadata": {},
   "source": [
    "# Using diabetes dataset and taking blood pressure and Age as features."
   ]
  },
  {
   "cell_type": "code",
   "execution_count": 11,
   "metadata": {},
   "outputs": [],
   "source": [
    "\n",
    "dataset = pd.read_csv('./diabetes.csv')\n",
    "X = dataset.iloc[:50, [2, 7]].values\n",
    "y = dataset.iloc[:50, 8].values\n",
    "knn = KDTree()\n",
    "knn.fit(X, y)\n",
    "#knn.bfs()\n",
    "# input point\n",
    "in_x = 70\n",
    "in_y = 20\n",
    "#in_x, in_y = map(int, input(\"Enter Point(x,y):\").split())\n",
    "K = 9# int(input(\"How many Nearest Values:\"))\n",
    "output = knn.predict((in_x, in_y), K)\n"
   ]
  },
  {
   "cell_type": "markdown",
   "metadata": {},
   "source": [
    "# Visualization of the data for better Understanding"
   ]
  },
  {
   "cell_type": "code",
   "execution_count": 12,
   "metadata": {},
   "outputs": [
    {
     "data": {
      "image/png": "[encoded data removed]",
      "text/plain": [
       "<Figure size 1080x720 with 1 Axes>"
      ]
     },
     "metadata": {
      "needs_background": "light"
     },
     "output_type": "display_data"
    }
   ],
   "source": [
    "\n",
    "\n",
    "f = plt.figure()\n",
    "f.set_figwidth(15)\n",
    "f.set_figheight(10)\n",
    "for (feature, target) in knn.points:\n",
    "    plt.scatter(feature[0], feature[1], marker='s' if target ==\n",
    "                1 else 'o', color='red' if target == 1 else 'blue')\n",
    "heap = []\n",
    "neighbors = knn.dfs(knn.head, (in_x, in_y), 0, heap, K)\n",
    "for (distance, (feature, target)) in neighbors:\n",
    "    plt.scatter(feature[0], feature[1], marker='s' if target ==\n",
    "                1 else 'o', color='green' if target == 1 else 'yellow')\n",
    "plt.scatter(in_x, in_y, color='green' if output == 1 else 'yellow', marker='x')\n",
    "plt.xticks(np.arange(0, 120, 5.0))\n",
    "plt.yticks(np.arange(0, 60, 5.0))\n",
    "plt.show()\n"
   ]
  }
 ],
 "metadata": {
  "interpreter": {
   "hash": "597ea447dffcce87677b122d856044db72d6425d6c1b26107c39df11795fdd45"
  },
  "kernelspec": {
   "display_name": "Python 3.10.4 64-bit",
   "language": "python",
   "name": "python3"
  },
  "language_info": {
   "codemirror_mode": {
    "name": "ipython",
    "version": 3
   },
   "file_extension": ".py",
   "mimetype": "text/x-python",
   "name": "python",
   "nbconvert_exporter": "python",
   "pygments_lexer": "ipython3",
   "version": "3.10.4"
  },
  "orig_nbformat": 4
 },
 "nbformat": 4,
 "nbformat_minor": 2
}
